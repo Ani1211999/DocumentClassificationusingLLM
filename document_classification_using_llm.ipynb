{
  "cells": [
    {
      "cell_type": "markdown",
      "metadata": {
        "id": "view-in-github",
        "colab_type": "text"
      },
      "source": [
        "<a href=\"https://colab.research.google.com/github/Ani1211999/DocumentClassificationusingLLM/blob/main/document_classification_using_llm.ipynb\" target=\"_parent\"><img src=\"https://colab.research.google.com/assets/colab-badge.svg\" alt=\"Open In Colab\"/></a>"
      ]
    },
    {
      "cell_type": "markdown",
      "id": "20a7787b",
      "metadata": {
        "id": "20a7787b"
      },
      "source": [
        "# Install the required libraries"
      ]
    },
    {
      "cell_type": "code",
      "execution_count": null,
      "id": "217fe4b6",
      "metadata": {
        "execution": {
          "iopub.execute_input": "2024-04-29T11:32:38.274533Z",
          "iopub.status.busy": "2024-04-29T11:32:38.274199Z",
          "iopub.status.idle": "2024-04-29T11:33:02.982832Z",
          "shell.execute_reply": "2024-04-29T11:33:02.981770Z",
          "shell.execute_reply.started": "2024-04-29T11:32:38.274499Z"
        },
        "id": "217fe4b6"
      },
      "outputs": [],
      "source": [
        "!pip3 install transformers\n",
        "!pip3 install accelerate -U\n",
        "!pip3 install datasets"
      ]
    },
    {
      "cell_type": "markdown",
      "id": "2e38aadd",
      "metadata": {
        "id": "2e38aadd"
      },
      "source": []
    },
    {
      "cell_type": "code",
      "source": [
        "from google.colab import drive\n",
        "drive.mount('/content/drive')"
      ],
      "metadata": {
        "colab": {
          "base_uri": "https://localhost:8080/"
        },
        "id": "thJIWrtwpiLl",
        "outputId": "2f8b08e9-cc0c-42d7-d956-2eaeeb11bc0d"
      },
      "id": "thJIWrtwpiLl",
      "execution_count": 1,
      "outputs": [
        {
          "output_type": "stream",
          "name": "stdout",
          "text": [
            "Mounted at /content/drive\n"
          ]
        }
      ]
    },
    {
      "cell_type": "markdown",
      "id": "b1b39cac",
      "metadata": {
        "id": "b1b39cac"
      },
      "source": [
        "# Initialize BERT and initialize working in GPU environment"
      ]
    },
    {
      "cell_type": "code",
      "execution_count": null,
      "id": "6405c583",
      "metadata": {
        "colab": {
          "base_uri": "https://localhost:8080/"
        },
        "execution": {
          "iopub.execute_input": "2024-04-29T11:33:35.285607Z",
          "iopub.status.busy": "2024-04-29T11:33:35.284909Z",
          "iopub.status.idle": "2024-04-29T11:33:37.022457Z",
          "shell.execute_reply": "2024-04-29T11:33:37.021430Z",
          "shell.execute_reply.started": "2024-04-29T11:33:35.285567Z"
        },
        "id": "6405c583",
        "outputId": "57551e97-0ed2-443a-976b-8eb610cff076"
      },
      "outputs": [
        {
          "name": "stdout",
          "output_type": "stream",
          "text": [
            "device:  cuda\n"
          ]
        }
      ],
      "source": [
        "import torch\n",
        "model_name = \"bert-base-uncased\"\n",
        "max_length = 512\n",
        "device = torch.device(\"cuda\" if torch.cuda.is_available() else \"cpu\")\n",
        "print(\"device: \",device)"
      ]
    },
    {
      "cell_type": "code",
      "execution_count": null,
      "id": "899624ce",
      "metadata": {
        "execution": {
          "iopub.execute_input": "2024-04-29T11:33:39.021693Z",
          "iopub.status.busy": "2024-04-29T11:33:39.020833Z",
          "iopub.status.idle": "2024-04-29T11:33:40.978714Z",
          "shell.execute_reply": "2024-04-29T11:33:40.977679Z",
          "shell.execute_reply.started": "2024-04-29T11:33:39.021659Z"
        },
        "id": "899624ce"
      },
      "outputs": [],
      "source": [
        "from transformers import BertTokenizerFast,BertForSequenceClassification\n",
        "tokenizer = BertTokenizerFast.from_pretrained(model_name, do_lower_case=True)"
      ]
    },
    {
      "cell_type": "markdown",
      "id": "4a946230",
      "metadata": {
        "id": "4a946230"
      },
      "source": [
        "# Import dataset and create training and testing datasets"
      ]
    },
    {
      "cell_type": "code",
      "execution_count": null,
      "id": "077fd59a",
      "metadata": {
        "colab": {
          "base_uri": "https://localhost:8080/"
        },
        "execution": {
          "iopub.execute_input": "2024-04-29T13:11:50.263096Z",
          "iopub.status.busy": "2024-04-29T13:11:50.262369Z",
          "iopub.status.idle": "2024-04-29T13:11:50.277988Z",
          "shell.execute_reply": "2024-04-29T13:11:50.277034Z",
          "shell.execute_reply.started": "2024-04-29T13:11:50.263064Z"
        },
        "id": "077fd59a",
        "outputId": "fd36c041-d97b-4318-9c4d-33671c8962f3"
      },
      "outputs": [
        {
          "name": "stdout",
          "output_type": "stream",
          "text": [
            "The Twenty newsgroups ['alt.atheism', 'comp.graphics', 'comp.os.ms-windows.misc', 'comp.sys.ibm.pc.hardware', 'comp.sys.mac.hardware', 'comp.windows.x', 'misc.forsale', 'rec.autos', 'rec.motorcycles', 'rec.sport.baseball', 'rec.sport.hockey', 'sci.crypt', 'sci.electronics', 'sci.med', 'sci.space', 'soc.religion.christian', 'talk.politics.guns', 'talk.politics.mideast', 'talk.politics.misc', 'talk.religion.misc']\n",
            "Sample Text in the dataset\n",
            " \n",
            "\n",
            "I am sure some bashers of Pens fans are pretty confused about the lack\n",
            "of any kind of posts about the recent Pens massacre of the Devils. Actually,\n",
            "I am  bit puzzled too and a bit relieved. However, I am going to put an end\n",
            "to non-PIttsburghers' relief with a bit of praise for the Pens. Man, they\n",
            "are killing those Devils worse than I thought. Jagr just showed you why\n",
            "he is much better than his regular season stats. He is also a lot\n",
            "fo fun to watch in the playoffs. Bowman should let JAgr have a lot of\n",
            "fun in the next couple of games since the Pens are going to beat the pulp out of Jersey anyway. I was very disappointed not to see the Islanders lose the final\n",
            "regular season game.          PENS RULE!!!\n",
            "\n",
            "\n",
            "The NewsGroup for the sample text is rec.sport.hockey\n"
          ]
        }
      ],
      "source": [
        "from sklearn.datasets import fetch_20newsgroups\n",
        "from sklearn.model_selection import train_test_split\n",
        "\n",
        "dataset = fetch_20newsgroups(subset=\"all\", shuffle=True, remove=(\"headers\",\"footers\", \"quotes\"))\n",
        "target_names=dataset.target_names\n",
        "news_text = dataset.data\n",
        "labels = dataset.target\n",
        "print(\"The Twenty newsgroups\",target_names)\n",
        "print(\"Sample Text in the dataset\\n\", news_text[0])\n",
        "print(\"The NewsGroup for the sample text is\", target_names[labels[0]])\n",
        "(train_texts,valid_texts,train_labels,valid_labels)=train_test_split(news_text, labels, test_size=0.3, random_state = 42)"
      ]
    },
    {
      "cell_type": "markdown",
      "id": "a4593d89",
      "metadata": {
        "id": "a4593d89"
      },
      "source": [
        "# Create BERT Embeddings for the textual data and create modified datasets for BERT Training"
      ]
    },
    {
      "cell_type": "code",
      "execution_count": null,
      "id": "339ad7e7",
      "metadata": {
        "execution": {
          "iopub.execute_input": "2024-04-29T11:33:51.805217Z",
          "iopub.status.busy": "2024-04-29T11:33:51.804323Z",
          "iopub.status.idle": "2024-04-29T11:34:10.421063Z",
          "shell.execute_reply": "2024-04-29T11:34:10.420252Z",
          "shell.execute_reply.started": "2024-04-29T11:33:51.805182Z"
        },
        "id": "339ad7e7"
      },
      "outputs": [],
      "source": [
        "import torch\n",
        "from datasets import Dataset\n",
        "# Tokenize and encode test data\n",
        "\n",
        "train_encodings = tokenizer(train_texts, truncation=True, padding='max_length', max_length=max_length, return_tensors=\"pt\")\n",
        "test_encodings = tokenizer(valid_texts, truncation=True, padding='max_length', max_length=max_length, return_tensors=\"pt\")\n",
        "\n",
        "# Convert labels to tensors\n",
        "train_labels_tensor = torch.tensor(train_labels,dtype=torch.long)  # Example labels for training data\n",
        "test_labels_tensor = torch.tensor(valid_labels,dtype=torch.long)   # Example labels for test data\n",
        "\n",
        "# Create a Hugging Face Dataset object\n",
        "train_dataset = Dataset.from_dict({\n",
        "    'input_ids': train_encodings['input_ids'],\n",
        "    'attention_mask': train_encodings['attention_mask'],\n",
        "    'labels':  torch.tensor(train_labels) # Assuming y_train contains the labels\n",
        "})\n",
        "\n",
        "test_dataset = Dataset.from_dict({\n",
        "    'input_ids': test_encodings['input_ids'],\n",
        "    'attention_mask': test_encodings['attention_mask'],\n",
        "    'labels':  torch.tensor(valid_labels) # Assuming y_train contains the labels\n",
        "})"
      ]
    },
    {
      "cell_type": "markdown",
      "id": "52385a5b",
      "metadata": {
        "id": "52385a5b"
      },
      "source": [
        "# Creating Evaluation metrics for analyzing the training progress and also for testing on test data finally"
      ]
    },
    {
      "cell_type": "code",
      "execution_count": null,
      "id": "c60c100a",
      "metadata": {
        "execution": {
          "iopub.execute_input": "2024-04-29T11:34:21.376973Z",
          "iopub.status.busy": "2024-04-29T11:34:21.375254Z",
          "iopub.status.idle": "2024-04-29T11:34:21.384594Z",
          "shell.execute_reply": "2024-04-29T11:34:21.383164Z",
          "shell.execute_reply.started": "2024-04-29T11:34:21.376929Z"
        },
        "id": "c60c100a"
      },
      "outputs": [],
      "source": [
        "from sklearn.metrics import accuracy_score, f1_score\n",
        "\n",
        "def compute_metrics(pred):\n",
        "    labels = pred.label_ids\n",
        "    preds = pred.predictions.argmax(-1)\n",
        "    f1 = f1_score(labels, preds, average=\"weighted\")\n",
        "    acc = accuracy_score(labels, preds)\n",
        "    return {\"accuracy\": acc, \"f1\": f1}"
      ]
    },
    {
      "cell_type": "markdown",
      "id": "8a374a8e",
      "metadata": {
        "id": "8a374a8e"
      },
      "source": [
        "# Loading the pretrained BERT Model and setting the training arguments for classification training"
      ]
    },
    {
      "cell_type": "code",
      "execution_count": null,
      "id": "09ad5f87",
      "metadata": {
        "colab": {
          "base_uri": "https://localhost:8080/",
          "height": 84,
          "referenced_widgets": [
            "2868317ec21e43b88a2b7e6d2f8ef947",
            "6d5843a09eb24b27ba767090dd88081d",
            "bff971ee2bfa4a818810e3f7535fb4ea",
            "2326617032fe40d38cbd8a57419d628a",
            "97be1b6dd3524ffc92195ab1657cd9eb",
            "d6b3aba7b1cc4d349f1d08d3e9bfc1af",
            "784805ed49b04bca8ba531f50dbfc32c",
            "560509fae3ac42b6b298bd70480d0725",
            "69c8878a9ced47d6bcc8a0478b48b4c3",
            "a40beed7e52f41379b76c3908e858733",
            "0ea720b6e13449e79ca03c4f2396166c"
          ]
        },
        "execution": {
          "iopub.execute_input": "2024-04-29T11:34:24.151465Z",
          "iopub.status.busy": "2024-04-29T11:34:24.151104Z",
          "iopub.status.idle": "2024-04-29T11:34:27.061263Z",
          "shell.execute_reply": "2024-04-29T11:34:27.060414Z",
          "shell.execute_reply.started": "2024-04-29T11:34:24.151438Z"
        },
        "id": "09ad5f87",
        "outputId": "e7aa7d12-cd58-4c65-81d1-297555390ecb"
      },
      "outputs": [
        {
          "name": "stderr",
          "output_type": "stream",
          "text": [
            "Some weights of BertForSequenceClassification were not initialized from the model checkpoint at bert-base-uncased and are newly initialized: ['classifier.bias', 'classifier.weight']\n",
            "You should probably TRAIN this model on a down-stream task to be able to use it for predictions and inference.\n",
            "2024-04-29 11:34:24.916366: E external/local_xla/xla/stream_executor/cuda/cuda_dnn.cc:9261] Unable to register cuDNN factory: Attempting to register factory for plugin cuDNN when one has already been registered\n",
            "2024-04-29 11:34:24.916423: E external/local_xla/xla/stream_executor/cuda/cuda_fft.cc:607] Unable to register cuFFT factory: Attempting to register factory for plugin cuFFT when one has already been registered\n",
            "2024-04-29 11:34:24.917833: E external/local_xla/xla/stream_executor/cuda/cuda_blas.cc:1515] Unable to register cuBLAS factory: Attempting to register factory for plugin cuBLAS when one has already been registered\n"
          ]
        }
      ],
      "source": [
        "model=BertForSequenceClassification.from_pretrained(model_name, num_labels=len(target_names))\n",
        "from transformers import Trainer, TrainingArguments\n",
        "training_args = TrainingArguments(\n",
        "    output_dir = '/content/drive/MyDrive/NLP/Model_Outputs/',\n",
        "    num_train_epochs=5,\n",
        "    per_device_train_batch_size=16,\n",
        "    # batch size per device during training\n",
        "    weight_decay=0.01,               # strength of weight decay\n",
        "    load_best_model_at_end=True,\n",
        "    evaluation_strategy=\"steps\",\n",
        ")"
      ]
    },
    {
      "cell_type": "markdown",
      "id": "347467eb",
      "metadata": {
        "id": "347467eb"
      },
      "source": [
        "# Start the training process by providing training and evaluation datasets and the necessary training arguments and metrics"
      ]
    },
    {
      "cell_type": "code",
      "execution_count": null,
      "id": "56623406",
      "metadata": {
        "colab": {
          "base_uri": "https://localhost:8080/",
          "height": 399
        },
        "execution": {
          "iopub.execute_input": "2024-04-29T11:34:32.832491Z",
          "iopub.status.busy": "2024-04-29T11:34:32.831546Z",
          "iopub.status.idle": "2024-04-29T12:34:28.630022Z",
          "shell.execute_reply": "2024-04-29T12:34:28.629020Z",
          "shell.execute_reply.started": "2024-04-29T11:34:32.832454Z"
        },
        "id": "56623406",
        "outputId": "4c71bc55-a7dd-48f1-f82b-be0f4e354132",
        "scrolled": true
      },
      "outputs": [
        {
          "name": "stderr",
          "output_type": "stream",
          "text": [
            "/opt/conda/lib/python3.10/site-packages/accelerate/accelerator.py:436: FutureWarning: Passing the following arguments to `Accelerator` is deprecated and will be removed in version 1.0 of Accelerate: dict_keys(['dispatch_batches', 'split_batches', 'even_batches', 'use_seedable_sampler']). Please pass an `accelerate.DataLoaderConfiguration` instead: \n",
            "dataloader_config = DataLoaderConfiguration(dispatch_batches=None, split_batches=False, even_batches=True, use_seedable_sampler=True)\n",
            "  warnings.warn(\n",
            "\u001b[34m\u001b[1mwandb\u001b[0m: Currently logged in as: \u001b[33maniketshinde12\u001b[0m (\u001b[33mrptu-de\u001b[0m). Use \u001b[1m`wandb login --relogin`\u001b[0m to force relogin\n"
          ]
        },
        {
          "data": {
            "text/html": [
              "Tracking run with wandb version 0.16.6"
            ],
            "text/plain": [
              "<IPython.core.display.HTML object>"
            ]
          },
          "metadata": {},
          "output_type": "display_data"
        },
        {
          "data": {
            "text/html": [
              "Run data is saved locally in <code>/kaggle/working/wandb/run-20240429_113435-55qbg1w6</code>"
            ],
            "text/plain": [
              "<IPython.core.display.HTML object>"
            ]
          },
          "metadata": {},
          "output_type": "display_data"
        },
        {
          "data": {
            "text/html": [
              "Syncing run <strong><a href='https://wandb.ai/rptu-de/huggingface/runs/55qbg1w6' target=\"_blank\">vital-aardvark-2</a></strong> to <a href='https://wandb.ai/rptu-de/huggingface' target=\"_blank\">Weights & Biases</a> (<a href='https://wandb.me/run' target=\"_blank\">docs</a>)<br/>"
            ],
            "text/plain": [
              "<IPython.core.display.HTML object>"
            ]
          },
          "metadata": {},
          "output_type": "display_data"
        },
        {
          "data": {
            "text/html": [
              " View project at <a href='https://wandb.ai/rptu-de/huggingface' target=\"_blank\">https://wandb.ai/rptu-de/huggingface</a>"
            ],
            "text/plain": [
              "<IPython.core.display.HTML object>"
            ]
          },
          "metadata": {},
          "output_type": "display_data"
        },
        {
          "data": {
            "text/html": [
              " View run at <a href='https://wandb.ai/rptu-de/huggingface/runs/55qbg1w6' target=\"_blank\">https://wandb.ai/rptu-de/huggingface/runs/55qbg1w6</a>"
            ],
            "text/plain": [
              "<IPython.core.display.HTML object>"
            ]
          },
          "metadata": {},
          "output_type": "display_data"
        },
        {
          "name": "stderr",
          "output_type": "stream",
          "text": [
            "/opt/conda/lib/python3.10/site-packages/torch/nn/parallel/_functions.py:68: UserWarning: Was asked to gather along dimension 0, but all input tensors were scalars; will instead unsqueeze and return a vector.\n",
            "  warnings.warn('Was asked to gather along dimension 0, but all '\n"
          ]
        },
        {
          "data": {
            "text/html": [
              "\n",
              "    <div>\n",
              "      \n",
              "      <progress value='2065' max='2065' style='width:300px; height:20px; vertical-align: middle;'></progress>\n",
              "      [2065/2065 59:32, Epoch 5/5]\n",
              "    </div>\n",
              "    <table border=\"1\" class=\"dataframe\">\n",
              "  <thead>\n",
              " <tr style=\"text-align: left;\">\n",
              "      <th>Step</th>\n",
              "      <th>Training Loss</th>\n",
              "      <th>Validation Loss</th>\n",
              "      <th>Accuracy</th>\n",
              "      <th>F1</th>\n",
              "    </tr>\n",
              "  </thead>\n",
              "  <tbody>\n",
              "    <tr>\n",
              "      <td>500</td>\n",
              "      <td>1.249100</td>\n",
              "      <td>0.961582</td>\n",
              "      <td>0.707817</td>\n",
              "      <td>0.703942</td>\n",
              "    </tr>\n",
              "    <tr>\n",
              "      <td>1000</td>\n",
              "      <td>0.592600</td>\n",
              "      <td>0.920411</td>\n",
              "      <td>0.732756</td>\n",
              "      <td>0.734760</td>\n",
              "    </tr>\n",
              "    <tr>\n",
              "      <td>1500</td>\n",
              "      <td>0.329400</td>\n",
              "      <td>0.961818</td>\n",
              "      <td>0.749027</td>\n",
              "      <td>0.751798</td>\n",
              "    </tr>\n",
              "    <tr>\n",
              "      <td>2000</td>\n",
              "      <td>0.191000</td>\n",
              "      <td>0.986947</td>\n",
              "      <td>0.758755</td>\n",
              "      <td>0.760031</td>\n",
              "    </tr>\n",
              "  </tbody>\n",
              "</table><p>"
            ],
            "text/plain": [
              "<IPython.core.display.HTML object>"
            ]
          },
          "metadata": {},
          "output_type": "display_data"
        },
        {
          "name": "stderr",
          "output_type": "stream",
          "text": [
            "/opt/conda/lib/python3.10/site-packages/torch/nn/parallel/_functions.py:68: UserWarning: Was asked to gather along dimension 0, but all input tensors were scalars; will instead unsqueeze and return a vector.\n",
            "  warnings.warn('Was asked to gather along dimension 0, but all '\n",
            "/opt/conda/lib/python3.10/site-packages/torch/nn/parallel/_functions.py:68: UserWarning: Was asked to gather along dimension 0, but all input tensors were scalars; will instead unsqueeze and return a vector.\n",
            "  warnings.warn('Was asked to gather along dimension 0, but all '\n",
            "/opt/conda/lib/python3.10/site-packages/torch/nn/parallel/_functions.py:68: UserWarning: Was asked to gather along dimension 0, but all input tensors were scalars; will instead unsqueeze and return a vector.\n",
            "  warnings.warn('Was asked to gather along dimension 0, but all '\n",
            "/opt/conda/lib/python3.10/site-packages/torch/nn/parallel/_functions.py:68: UserWarning: Was asked to gather along dimension 0, but all input tensors were scalars; will instead unsqueeze and return a vector.\n",
            "  warnings.warn('Was asked to gather along dimension 0, but all '\n"
          ]
        },
        {
          "data": {
            "text/plain": [
              "TrainOutput(global_step=2065, training_loss=0.5771530179076853, metrics={'train_runtime': 3594.9577, 'train_samples_per_second': 18.348, 'train_steps_per_second': 0.574, 'total_flos': 1.735761000382464e+16, 'train_loss': 0.5771530179076853, 'epoch': 5.0})"
            ]
          },
          "execution_count": 10,
          "metadata": {},
          "output_type": "execute_result"
        }
      ],
      "source": [
        "trainer = Trainer( model=model,args=training_args,compute_metrics=compute_metrics,\n",
        "    train_dataset=train_dataset,\n",
        "    eval_dataset=test_dataset)\n",
        "trainer.train()"
      ]
    },
    {
      "cell_type": "markdown",
      "id": "d9dc241a",
      "metadata": {
        "id": "d9dc241a"
      },
      "source": [
        "# Perform evaluation on the test dataset"
      ]
    },
    {
      "cell_type": "code",
      "execution_count": null,
      "id": "b30a8c09",
      "metadata": {
        "execution": {
          "iopub.execute_input": "2024-04-29T13:03:34.651461Z",
          "iopub.status.busy": "2024-04-29T13:03:34.650692Z",
          "iopub.status.idle": "2024-04-29T13:03:34.660877Z",
          "shell.execute_reply": "2024-04-29T13:03:34.659418Z",
          "shell.execute_reply.started": "2024-04-29T13:03:34.651426Z"
        },
        "id": "b30a8c09",
        "outputId": "58cf493d-8386-4f5f-8f4e-c365ed52ac0c"
      },
      "outputs": [
        {
          "name": "stdout",
          "output_type": "stream",
          "text": [
            "Final Evaluation Loss 0.9204107522964478\n",
            "Accuracy 0.7327555712769721\n",
            "F1 Score: 0.7347600011164772\n"
          ]
        }
      ],
      "source": [
        "#Evaluate the model on the test dataset\n",
        "eval_results = trainer.evaluate(test_dataset)\n",
        "\n",
        "# Calculate accuracy and F1 score\n",
        "accuracy = eval_results['eval_accuracy']\n",
        "f1 = eval_results['eval_f1']\n",
        "\n",
        "#Printing the Final Result on Test Data\n",
        "print(\"Final Evaluation Loss\", eval_results['eval_loss'])\n",
        "print(\"Accuracy\", accuracy)\n",
        "print(\"F1 Score:\", f1)"
      ]
    }
  ],
  "metadata": {
    "accelerator": "GPU",
    "colab": {
      "gpuType": "T4",
      "provenance": [],
      "include_colab_link": true
    },
    "kaggle": {
      "accelerator": "nvidiaTeslaT4",
      "dataSources": [],
      "dockerImageVersionId": 30699,
      "isGpuEnabled": true,
      "isInternetEnabled": true,
      "language": "python",
      "sourceType": "notebook"
    },
    "kernelspec": {
      "display_name": "Python 3 (ipykernel)",
      "language": "python",
      "name": "python3"
    },
    "language_info": {
      "codemirror_mode": {
        "name": "ipython",
        "version": 3
      },
      "file_extension": ".py",
      "mimetype": "text/x-python",
      "name": "python",
      "nbconvert_exporter": "python",
      "pygments_lexer": "ipython3",
      "version": "3.11.5"
    },
    "widgets": {
      "application/vnd.jupyter.widget-state+json": {
        "0ea720b6e13449e79ca03c4f2396166c": {
          "model_module": "@jupyter-widgets/controls",
          "model_module_version": "1.5.0",
          "model_name": "DescriptionStyleModel",
          "state": {
            "_model_module": "@jupyter-widgets/controls",
            "_model_module_version": "1.5.0",
            "_model_name": "DescriptionStyleModel",
            "_view_count": null,
            "_view_module": "@jupyter-widgets/base",
            "_view_module_version": "1.2.0",
            "_view_name": "StyleView",
            "description_width": ""
          }
        },
        "2326617032fe40d38cbd8a57419d628a": {
          "model_module": "@jupyter-widgets/controls",
          "model_module_version": "1.5.0",
          "model_name": "HTMLModel",
          "state": {
            "_dom_classes": [],
            "_model_module": "@jupyter-widgets/controls",
            "_model_module_version": "1.5.0",
            "_model_name": "HTMLModel",
            "_view_count": null,
            "_view_module": "@jupyter-widgets/controls",
            "_view_module_version": "1.5.0",
            "_view_name": "HTMLView",
            "description": "",
            "description_tooltip": null,
            "layout": "IPY_MODEL_a40beed7e52f41379b76c3908e858733",
            "placeholder": "​",
            "style": "IPY_MODEL_0ea720b6e13449e79ca03c4f2396166c",
            "value": " 440M/440M [00:02&lt;00:00, 194MB/s]"
          }
        },
        "2868317ec21e43b88a2b7e6d2f8ef947": {
          "model_module": "@jupyter-widgets/controls",
          "model_module_version": "1.5.0",
          "model_name": "HBoxModel",
          "state": {
            "_dom_classes": [],
            "_model_module": "@jupyter-widgets/controls",
            "_model_module_version": "1.5.0",
            "_model_name": "HBoxModel",
            "_view_count": null,
            "_view_module": "@jupyter-widgets/controls",
            "_view_module_version": "1.5.0",
            "_view_name": "HBoxView",
            "box_style": "",
            "children": [
              "IPY_MODEL_6d5843a09eb24b27ba767090dd88081d",
              "IPY_MODEL_bff971ee2bfa4a818810e3f7535fb4ea",
              "IPY_MODEL_2326617032fe40d38cbd8a57419d628a"
            ],
            "layout": "IPY_MODEL_97be1b6dd3524ffc92195ab1657cd9eb"
          }
        },
        "560509fae3ac42b6b298bd70480d0725": {
          "model_module": "@jupyter-widgets/base",
          "model_module_version": "1.2.0",
          "model_name": "LayoutModel",
          "state": {
            "_model_module": "@jupyter-widgets/base",
            "_model_module_version": "1.2.0",
            "_model_name": "LayoutModel",
            "_view_count": null,
            "_view_module": "@jupyter-widgets/base",
            "_view_module_version": "1.2.0",
            "_view_name": "LayoutView",
            "align_content": null,
            "align_items": null,
            "align_self": null,
            "border": null,
            "bottom": null,
            "display": null,
            "flex": null,
            "flex_flow": null,
            "grid_area": null,
            "grid_auto_columns": null,
            "grid_auto_flow": null,
            "grid_auto_rows": null,
            "grid_column": null,
            "grid_gap": null,
            "grid_row": null,
            "grid_template_areas": null,
            "grid_template_columns": null,
            "grid_template_rows": null,
            "height": null,
            "justify_content": null,
            "justify_items": null,
            "left": null,
            "margin": null,
            "max_height": null,
            "max_width": null,
            "min_height": null,
            "min_width": null,
            "object_fit": null,
            "object_position": null,
            "order": null,
            "overflow": null,
            "overflow_x": null,
            "overflow_y": null,
            "padding": null,
            "right": null,
            "top": null,
            "visibility": null,
            "width": null
          }
        },
        "69c8878a9ced47d6bcc8a0478b48b4c3": {
          "model_module": "@jupyter-widgets/controls",
          "model_module_version": "1.5.0",
          "model_name": "ProgressStyleModel",
          "state": {
            "_model_module": "@jupyter-widgets/controls",
            "_model_module_version": "1.5.0",
            "_model_name": "ProgressStyleModel",
            "_view_count": null,
            "_view_module": "@jupyter-widgets/base",
            "_view_module_version": "1.2.0",
            "_view_name": "StyleView",
            "bar_color": null,
            "description_width": ""
          }
        },
        "6d5843a09eb24b27ba767090dd88081d": {
          "model_module": "@jupyter-widgets/controls",
          "model_module_version": "1.5.0",
          "model_name": "HTMLModel",
          "state": {
            "_dom_classes": [],
            "_model_module": "@jupyter-widgets/controls",
            "_model_module_version": "1.5.0",
            "_model_name": "HTMLModel",
            "_view_count": null,
            "_view_module": "@jupyter-widgets/controls",
            "_view_module_version": "1.5.0",
            "_view_name": "HTMLView",
            "description": "",
            "description_tooltip": null,
            "layout": "IPY_MODEL_d6b3aba7b1cc4d349f1d08d3e9bfc1af",
            "placeholder": "​",
            "style": "IPY_MODEL_784805ed49b04bca8ba531f50dbfc32c",
            "value": "model.safetensors: 100%"
          }
        },
        "784805ed49b04bca8ba531f50dbfc32c": {
          "model_module": "@jupyter-widgets/controls",
          "model_module_version": "1.5.0",
          "model_name": "DescriptionStyleModel",
          "state": {
            "_model_module": "@jupyter-widgets/controls",
            "_model_module_version": "1.5.0",
            "_model_name": "DescriptionStyleModel",
            "_view_count": null,
            "_view_module": "@jupyter-widgets/base",
            "_view_module_version": "1.2.0",
            "_view_name": "StyleView",
            "description_width": ""
          }
        },
        "97be1b6dd3524ffc92195ab1657cd9eb": {
          "model_module": "@jupyter-widgets/base",
          "model_module_version": "1.2.0",
          "model_name": "LayoutModel",
          "state": {
            "_model_module": "@jupyter-widgets/base",
            "_model_module_version": "1.2.0",
            "_model_name": "LayoutModel",
            "_view_count": null,
            "_view_module": "@jupyter-widgets/base",
            "_view_module_version": "1.2.0",
            "_view_name": "LayoutView",
            "align_content": null,
            "align_items": null,
            "align_self": null,
            "border": null,
            "bottom": null,
            "display": null,
            "flex": null,
            "flex_flow": null,
            "grid_area": null,
            "grid_auto_columns": null,
            "grid_auto_flow": null,
            "grid_auto_rows": null,
            "grid_column": null,
            "grid_gap": null,
            "grid_row": null,
            "grid_template_areas": null,
            "grid_template_columns": null,
            "grid_template_rows": null,
            "height": null,
            "justify_content": null,
            "justify_items": null,
            "left": null,
            "margin": null,
            "max_height": null,
            "max_width": null,
            "min_height": null,
            "min_width": null,
            "object_fit": null,
            "object_position": null,
            "order": null,
            "overflow": null,
            "overflow_x": null,
            "overflow_y": null,
            "padding": null,
            "right": null,
            "top": null,
            "visibility": null,
            "width": null
          }
        },
        "a40beed7e52f41379b76c3908e858733": {
          "model_module": "@jupyter-widgets/base",
          "model_module_version": "1.2.0",
          "model_name": "LayoutModel",
          "state": {
            "_model_module": "@jupyter-widgets/base",
            "_model_module_version": "1.2.0",
            "_model_name": "LayoutModel",
            "_view_count": null,
            "_view_module": "@jupyter-widgets/base",
            "_view_module_version": "1.2.0",
            "_view_name": "LayoutView",
            "align_content": null,
            "align_items": null,
            "align_self": null,
            "border": null,
            "bottom": null,
            "display": null,
            "flex": null,
            "flex_flow": null,
            "grid_area": null,
            "grid_auto_columns": null,
            "grid_auto_flow": null,
            "grid_auto_rows": null,
            "grid_column": null,
            "grid_gap": null,
            "grid_row": null,
            "grid_template_areas": null,
            "grid_template_columns": null,
            "grid_template_rows": null,
            "height": null,
            "justify_content": null,
            "justify_items": null,
            "left": null,
            "margin": null,
            "max_height": null,
            "max_width": null,
            "min_height": null,
            "min_width": null,
            "object_fit": null,
            "object_position": null,
            "order": null,
            "overflow": null,
            "overflow_x": null,
            "overflow_y": null,
            "padding": null,
            "right": null,
            "top": null,
            "visibility": null,
            "width": null
          }
        },
        "bff971ee2bfa4a818810e3f7535fb4ea": {
          "model_module": "@jupyter-widgets/controls",
          "model_module_version": "1.5.0",
          "model_name": "FloatProgressModel",
          "state": {
            "_dom_classes": [],
            "_model_module": "@jupyter-widgets/controls",
            "_model_module_version": "1.5.0",
            "_model_name": "FloatProgressModel",
            "_view_count": null,
            "_view_module": "@jupyter-widgets/controls",
            "_view_module_version": "1.5.0",
            "_view_name": "ProgressView",
            "bar_style": "success",
            "description": "",
            "description_tooltip": null,
            "layout": "IPY_MODEL_560509fae3ac42b6b298bd70480d0725",
            "max": 440449768,
            "min": 0,
            "orientation": "horizontal",
            "style": "IPY_MODEL_69c8878a9ced47d6bcc8a0478b48b4c3",
            "value": 440449768
          }
        },
        "d6b3aba7b1cc4d349f1d08d3e9bfc1af": {
          "model_module": "@jupyter-widgets/base",
          "model_module_version": "1.2.0",
          "model_name": "LayoutModel",
          "state": {
            "_model_module": "@jupyter-widgets/base",
            "_model_module_version": "1.2.0",
            "_model_name": "LayoutModel",
            "_view_count": null,
            "_view_module": "@jupyter-widgets/base",
            "_view_module_version": "1.2.0",
            "_view_name": "LayoutView",
            "align_content": null,
            "align_items": null,
            "align_self": null,
            "border": null,
            "bottom": null,
            "display": null,
            "flex": null,
            "flex_flow": null,
            "grid_area": null,
            "grid_auto_columns": null,
            "grid_auto_flow": null,
            "grid_auto_rows": null,
            "grid_column": null,
            "grid_gap": null,
            "grid_row": null,
            "grid_template_areas": null,
            "grid_template_columns": null,
            "grid_template_rows": null,
            "height": null,
            "justify_content": null,
            "justify_items": null,
            "left": null,
            "margin": null,
            "max_height": null,
            "max_width": null,
            "min_height": null,
            "min_width": null,
            "object_fit": null,
            "object_position": null,
            "order": null,
            "overflow": null,
            "overflow_x": null,
            "overflow_y": null,
            "padding": null,
            "right": null,
            "top": null,
            "visibility": null,
            "width": null
          }
        }
      }
    }
  },
  "nbformat": 4,
  "nbformat_minor": 5
}